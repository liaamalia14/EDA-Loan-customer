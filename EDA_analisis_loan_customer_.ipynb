{
  "cells": [
    {
      "cell_type": "markdown",
      "id": "553dbe77",
      "metadata": {
        "id": "553dbe77"
      },
      "source": [
        "Author: Lia amalia"
      ]
    },
    {
      "cell_type": "markdown",
      "id": "abf05cad",
      "metadata": {
        "id": "abf05cad"
      },
      "source": [
        "# Import Libraries"
      ]
    },
    {
      "cell_type": "code",
      "execution_count": 7,
      "id": "895f458c",
      "metadata": {
        "id": "895f458c"
      },
      "outputs": [],
      "source": [
        "import numpy as np\n",
        "import pandas as pd\n",
        "import matplotlib.pyplot as plt\n",
        "import seaborn as sns\n"
      ]
    },
    {
      "cell_type": "markdown",
      "id": "baa49998",
      "metadata": {
        "id": "baa49998"
      },
      "source": [
        "# Load Dataset"
      ]
    },
    {
      "cell_type": "code",
      "source": [
        "from google.colab import drive\n",
        "drive.mount('/content/drive')"
      ],
      "metadata": {
        "colab": {
          "base_uri": "https://localhost:8080/"
        },
        "id": "ShtCKRqRioYM",
        "outputId": "e6521642-5cc0-4622-a2c7-d346578aa5ff"
      },
      "id": "ShtCKRqRioYM",
      "execution_count": 3,
      "outputs": [
        {
          "output_type": "stream",
          "name": "stdout",
          "text": [
            "Drive already mounted at /content/drive; to attempt to forcibly remount, call drive.mount(\"/content/drive\", force_remount=True).\n"
          ]
        }
      ]
    },
    {
      "cell_type": "code",
      "source": [
        "df = pd.read_csv('/content/drive/MyDrive/DATA SET/loan_customer.csv')"
      ],
      "metadata": {
        "id": "ZYTnOTIq8lT0"
      },
      "id": "ZYTnOTIq8lT0",
      "execution_count": 9,
      "outputs": []
    },
    {
      "cell_type": "code",
      "source": [
        "df.info ()"
      ],
      "metadata": {
        "colab": {
          "base_uri": "https://localhost:8080/"
        },
        "id": "Js7Hv7SpJTrQ",
        "outputId": "94016e82-edee-4a62-8325-1404dc6171a8"
      },
      "id": "Js7Hv7SpJTrQ",
      "execution_count": 10,
      "outputs": [
        {
          "output_type": "stream",
          "name": "stdout",
          "text": [
            "<class 'pandas.core.frame.DataFrame'>\n",
            "RangeIndex: 621 entries, 0 to 620\n",
            "Data columns (total 17 columns):\n",
            " #   Column              Non-Null Count  Dtype  \n",
            "---  ------              --------------  -----  \n",
            " 0   loan_id             621 non-null    object \n",
            " 1   birth_date          572 non-null    object \n",
            " 2   phone_number        569 non-null    float64\n",
            " 3   gender              608 non-null    object \n",
            " 4   married             618 non-null    object \n",
            " 5   dependents          605 non-null    object \n",
            " 6   education           620 non-null    object \n",
            " 7   self_employed       588 non-null    object \n",
            " 8   applicant_income    612 non-null    float64\n",
            " 9   coapplicant_income  621 non-null    float64\n",
            " 10  loan_amount         621 non-null    int64  \n",
            " 11  loan_term_month     621 non-null    int64  \n",
            " 12  loan_term_year      621 non-null    int64  \n",
            " 13  credit_history      570 non-null    float64\n",
            " 14  has_credit_card     88 non-null     object \n",
            " 15  property_type       620 non-null    object \n",
            " 16  loan_status         621 non-null    object \n",
            "dtypes: float64(4), int64(3), object(10)\n",
            "memory usage: 82.6+ KB\n"
          ]
        }
      ]
    },
    {
      "cell_type": "markdown",
      "source": [
        "pengamatan \n",
        "\n",
        "1. total 17 baris\n",
        "2. tidak ada nilai eksrim pada data ini"
      ],
      "metadata": {
        "id": "Hu4xrTaWJoC0"
      },
      "id": "Hu4xrTaWJoC0"
    },
    {
      "cell_type": "code",
      "source": [
        "df.head()"
      ],
      "metadata": {
        "colab": {
          "base_uri": "https://localhost:8080/",
          "height": 287
        },
        "id": "m65QS48tKGlV",
        "outputId": "bbd48227-e0d8-41c6-9c59-d83f7000d168"
      },
      "id": "m65QS48tKGlV",
      "execution_count": 11,
      "outputs": [
        {
          "output_type": "execute_result",
          "data": {
            "text/plain": [
              "    loan_id  birth_date  phone_number gender married dependents     education  \\\n",
              "0  LP001002  1977-05-15  6.281142e+11   Male      No          0      Graduate   \n",
              "1  LP001003  1979-08-24  6.287764e+11   Male     Yes          1      Graduate   \n",
              "2  LP001005  1991-03-28  6.281192e+11   Male     Yes          0      Graduate   \n",
              "3  LP001006  1980-06-02  6.285634e+10   Male     Yes          0  Not Graduate   \n",
              "4  LP001008  1989-05-19  6.281130e+11   Male      No          0      Graduate   \n",
              "\n",
              "  self_employed  applicant_income  coapplicant_income  loan_amount  \\\n",
              "0            No            5849.0                 0.0       100000   \n",
              "1            No            4583.0              1508.0       128000   \n",
              "2           Yes            3000.0                 0.0        66000   \n",
              "3            No            2583.0              2358.0       120000   \n",
              "4            No            6000.0                 0.0       141000   \n",
              "\n",
              "   loan_term_month  loan_term_year  credit_history has_credit_card  \\\n",
              "0              360              30             1.0             NaN   \n",
              "1              360              30             1.0             NaN   \n",
              "2              360              30             1.0             NaN   \n",
              "3              360              30             1.0             NaN   \n",
              "4              360              30             1.0             NaN   \n",
              "\n",
              "  property_type loan_status  \n",
              "0         house     APPROVE  \n",
              "1        studio      REJECT  \n",
              "2         house     APPROVE  \n",
              "3         house     APPROVE  \n",
              "4         house     APPROVE  "
            ],
            "text/html": [
              "\n",
              "  <div id=\"df-8c7395c2-bebf-42dd-be2e-5e14a811251a\">\n",
              "    <div class=\"colab-df-container\">\n",
              "      <div>\n",
              "<style scoped>\n",
              "    .dataframe tbody tr th:only-of-type {\n",
              "        vertical-align: middle;\n",
              "    }\n",
              "\n",
              "    .dataframe tbody tr th {\n",
              "        vertical-align: top;\n",
              "    }\n",
              "\n",
              "    .dataframe thead th {\n",
              "        text-align: right;\n",
              "    }\n",
              "</style>\n",
              "<table border=\"1\" class=\"dataframe\">\n",
              "  <thead>\n",
              "    <tr style=\"text-align: right;\">\n",
              "      <th></th>\n",
              "      <th>loan_id</th>\n",
              "      <th>birth_date</th>\n",
              "      <th>phone_number</th>\n",
              "      <th>gender</th>\n",
              "      <th>married</th>\n",
              "      <th>dependents</th>\n",
              "      <th>education</th>\n",
              "      <th>self_employed</th>\n",
              "      <th>applicant_income</th>\n",
              "      <th>coapplicant_income</th>\n",
              "      <th>loan_amount</th>\n",
              "      <th>loan_term_month</th>\n",
              "      <th>loan_term_year</th>\n",
              "      <th>credit_history</th>\n",
              "      <th>has_credit_card</th>\n",
              "      <th>property_type</th>\n",
              "      <th>loan_status</th>\n",
              "    </tr>\n",
              "  </thead>\n",
              "  <tbody>\n",
              "    <tr>\n",
              "      <th>0</th>\n",
              "      <td>LP001002</td>\n",
              "      <td>1977-05-15</td>\n",
              "      <td>6.281142e+11</td>\n",
              "      <td>Male</td>\n",
              "      <td>No</td>\n",
              "      <td>0</td>\n",
              "      <td>Graduate</td>\n",
              "      <td>No</td>\n",
              "      <td>5849.0</td>\n",
              "      <td>0.0</td>\n",
              "      <td>100000</td>\n",
              "      <td>360</td>\n",
              "      <td>30</td>\n",
              "      <td>1.0</td>\n",
              "      <td>NaN</td>\n",
              "      <td>house</td>\n",
              "      <td>APPROVE</td>\n",
              "    </tr>\n",
              "    <tr>\n",
              "      <th>1</th>\n",
              "      <td>LP001003</td>\n",
              "      <td>1979-08-24</td>\n",
              "      <td>6.287764e+11</td>\n",
              "      <td>Male</td>\n",
              "      <td>Yes</td>\n",
              "      <td>1</td>\n",
              "      <td>Graduate</td>\n",
              "      <td>No</td>\n",
              "      <td>4583.0</td>\n",
              "      <td>1508.0</td>\n",
              "      <td>128000</td>\n",
              "      <td>360</td>\n",
              "      <td>30</td>\n",
              "      <td>1.0</td>\n",
              "      <td>NaN</td>\n",
              "      <td>studio</td>\n",
              "      <td>REJECT</td>\n",
              "    </tr>\n",
              "    <tr>\n",
              "      <th>2</th>\n",
              "      <td>LP001005</td>\n",
              "      <td>1991-03-28</td>\n",
              "      <td>6.281192e+11</td>\n",
              "      <td>Male</td>\n",
              "      <td>Yes</td>\n",
              "      <td>0</td>\n",
              "      <td>Graduate</td>\n",
              "      <td>Yes</td>\n",
              "      <td>3000.0</td>\n",
              "      <td>0.0</td>\n",
              "      <td>66000</td>\n",
              "      <td>360</td>\n",
              "      <td>30</td>\n",
              "      <td>1.0</td>\n",
              "      <td>NaN</td>\n",
              "      <td>house</td>\n",
              "      <td>APPROVE</td>\n",
              "    </tr>\n",
              "    <tr>\n",
              "      <th>3</th>\n",
              "      <td>LP001006</td>\n",
              "      <td>1980-06-02</td>\n",
              "      <td>6.285634e+10</td>\n",
              "      <td>Male</td>\n",
              "      <td>Yes</td>\n",
              "      <td>0</td>\n",
              "      <td>Not Graduate</td>\n",
              "      <td>No</td>\n",
              "      <td>2583.0</td>\n",
              "      <td>2358.0</td>\n",
              "      <td>120000</td>\n",
              "      <td>360</td>\n",
              "      <td>30</td>\n",
              "      <td>1.0</td>\n",
              "      <td>NaN</td>\n",
              "      <td>house</td>\n",
              "      <td>APPROVE</td>\n",
              "    </tr>\n",
              "    <tr>\n",
              "      <th>4</th>\n",
              "      <td>LP001008</td>\n",
              "      <td>1989-05-19</td>\n",
              "      <td>6.281130e+11</td>\n",
              "      <td>Male</td>\n",
              "      <td>No</td>\n",
              "      <td>0</td>\n",
              "      <td>Graduate</td>\n",
              "      <td>No</td>\n",
              "      <td>6000.0</td>\n",
              "      <td>0.0</td>\n",
              "      <td>141000</td>\n",
              "      <td>360</td>\n",
              "      <td>30</td>\n",
              "      <td>1.0</td>\n",
              "      <td>NaN</td>\n",
              "      <td>house</td>\n",
              "      <td>APPROVE</td>\n",
              "    </tr>\n",
              "  </tbody>\n",
              "</table>\n",
              "</div>\n",
              "      <button class=\"colab-df-convert\" onclick=\"convertToInteractive('df-8c7395c2-bebf-42dd-be2e-5e14a811251a')\"\n",
              "              title=\"Convert this dataframe to an interactive table.\"\n",
              "              style=\"display:none;\">\n",
              "        \n",
              "  <svg xmlns=\"http://www.w3.org/2000/svg\" height=\"24px\"viewBox=\"0 0 24 24\"\n",
              "       width=\"24px\">\n",
              "    <path d=\"M0 0h24v24H0V0z\" fill=\"none\"/>\n",
              "    <path d=\"M18.56 5.44l.94 2.06.94-2.06 2.06-.94-2.06-.94-.94-2.06-.94 2.06-2.06.94zm-11 1L8.5 8.5l.94-2.06 2.06-.94-2.06-.94L8.5 2.5l-.94 2.06-2.06.94zm10 10l.94 2.06.94-2.06 2.06-.94-2.06-.94-.94-2.06-.94 2.06-2.06.94z\"/><path d=\"M17.41 7.96l-1.37-1.37c-.4-.4-.92-.59-1.43-.59-.52 0-1.04.2-1.43.59L10.3 9.45l-7.72 7.72c-.78.78-.78 2.05 0 2.83L4 21.41c.39.39.9.59 1.41.59.51 0 1.02-.2 1.41-.59l7.78-7.78 2.81-2.81c.8-.78.8-2.07 0-2.86zM5.41 20L4 18.59l7.72-7.72 1.47 1.35L5.41 20z\"/>\n",
              "  </svg>\n",
              "      </button>\n",
              "      \n",
              "  <style>\n",
              "    .colab-df-container {\n",
              "      display:flex;\n",
              "      flex-wrap:wrap;\n",
              "      gap: 12px;\n",
              "    }\n",
              "\n",
              "    .colab-df-convert {\n",
              "      background-color: #E8F0FE;\n",
              "      border: none;\n",
              "      border-radius: 50%;\n",
              "      cursor: pointer;\n",
              "      display: none;\n",
              "      fill: #1967D2;\n",
              "      height: 32px;\n",
              "      padding: 0 0 0 0;\n",
              "      width: 32px;\n",
              "    }\n",
              "\n",
              "    .colab-df-convert:hover {\n",
              "      background-color: #E2EBFA;\n",
              "      box-shadow: 0px 1px 2px rgba(60, 64, 67, 0.3), 0px 1px 3px 1px rgba(60, 64, 67, 0.15);\n",
              "      fill: #174EA6;\n",
              "    }\n",
              "\n",
              "    [theme=dark] .colab-df-convert {\n",
              "      background-color: #3B4455;\n",
              "      fill: #D2E3FC;\n",
              "    }\n",
              "\n",
              "    [theme=dark] .colab-df-convert:hover {\n",
              "      background-color: #434B5C;\n",
              "      box-shadow: 0px 1px 3px 1px rgba(0, 0, 0, 0.15);\n",
              "      filter: drop-shadow(0px 1px 2px rgba(0, 0, 0, 0.3));\n",
              "      fill: #FFFFFF;\n",
              "    }\n",
              "  </style>\n",
              "\n",
              "      <script>\n",
              "        const buttonEl =\n",
              "          document.querySelector('#df-8c7395c2-bebf-42dd-be2e-5e14a811251a button.colab-df-convert');\n",
              "        buttonEl.style.display =\n",
              "          google.colab.kernel.accessAllowed ? 'block' : 'none';\n",
              "\n",
              "        async function convertToInteractive(key) {\n",
              "          const element = document.querySelector('#df-8c7395c2-bebf-42dd-be2e-5e14a811251a');\n",
              "          const dataTable =\n",
              "            await google.colab.kernel.invokeFunction('convertToInteractive',\n",
              "                                                     [key], {});\n",
              "          if (!dataTable) return;\n",
              "\n",
              "          const docLinkHtml = 'Like what you see? Visit the ' +\n",
              "            '<a target=\"_blank\" href=https://colab.research.google.com/notebooks/data_table.ipynb>data table notebook</a>'\n",
              "            + ' to learn more about interactive tables.';\n",
              "          element.innerHTML = '';\n",
              "          dataTable['output_type'] = 'display_data';\n",
              "          await google.colab.output.renderOutput(dataTable, element);\n",
              "          const docLink = document.createElement('div');\n",
              "          docLink.innerHTML = docLinkHtml;\n",
              "          element.appendChild(docLink);\n",
              "        }\n",
              "      </script>\n",
              "    </div>\n",
              "  </div>\n",
              "  "
            ]
          },
          "metadata": {},
          "execution_count": 11
        }
      ]
    },
    {
      "cell_type": "code",
      "source": [
        "# pengelompokan kolom berdasarkan jenisnya\n",
        "nums = ['loan_id', 'birth_date', 'dependents', 'aplication_income', 'coapplication_income', 'loan_amount', 'loan_term_month', 'loan_term_year','credit_history']\n",
        "cats = ['jenis_kelamin', 'married', 'education', 'self_employed', 'property_type', 'has_credit_card','loan_status'] "
      ],
      "metadata": {
        "id": "hXM8cVl84ItG"
      },
      "id": "hXM8cVl84ItG",
      "execution_count": null,
      "outputs": []
    },
    {
      "cell_type": "markdown",
      "source": [],
      "metadata": {
        "id": "EE0WNs5M7doS"
      },
      "id": "EE0WNs5M7doS"
    },
    {
      "cell_type": "markdown",
      "id": "7c0e3893",
      "metadata": {
        "id": "7c0e3893"
      },
      "source": [
        "# Data Cleansing"
      ]
    },
    {
      "cell_type": "markdown",
      "id": "dc4032a4",
      "metadata": {
        "id": "dc4032a4"
      },
      "source": [
        "## Handling missing values"
      ]
    },
    {
      "cell_type": "code",
      "execution_count": 12,
      "id": "b2b5755e",
      "metadata": {
        "id": "b2b5755e",
        "colab": {
          "base_uri": "https://localhost:8080/"
        },
        "outputId": "a2df7cc6-612d-4155-94c6-be2b6216e2ae"
      },
      "outputs": [
        {
          "output_type": "execute_result",
          "data": {
            "text/plain": [
              "loan_id                 0\n",
              "birth_date             49\n",
              "phone_number           52\n",
              "gender                 13\n",
              "married                 3\n",
              "dependents             16\n",
              "education               1\n",
              "self_employed          33\n",
              "applicant_income        9\n",
              "coapplicant_income      0\n",
              "loan_amount             0\n",
              "loan_term_month         0\n",
              "loan_term_year          0\n",
              "credit_history         51\n",
              "has_credit_card       533\n",
              "property_type           1\n",
              "loan_status             0\n",
              "dtype: int64"
            ]
          },
          "metadata": {},
          "execution_count": 12
        }
      ],
      "source": [
        "\n",
        "#jumlah entry nul di setiap kolom \n",
        "df.isna().sum()"
      ]
    },
    {
      "cell_type": "code",
      "source": [
        "#drop baris dengan missing value \n",
        "df=df.dropna()"
      ],
      "metadata": {
        "id": "N0YnHsckLDcO"
      },
      "id": "N0YnHsckLDcO",
      "execution_count": 13,
      "outputs": []
    },
    {
      "cell_type": "code",
      "source": [
        "#mengecek data sudah berhasil terdrop\n",
        "df.isna().sum()"
      ],
      "metadata": {
        "colab": {
          "base_uri": "https://localhost:8080/"
        },
        "id": "nmni8ZqkLW4N",
        "outputId": "2c08c794-f9f6-46b2-f3af-d15141a780b7"
      },
      "id": "nmni8ZqkLW4N",
      "execution_count": 14,
      "outputs": [
        {
          "output_type": "execute_result",
          "data": {
            "text/plain": [
              "loan_id               0\n",
              "birth_date            0\n",
              "phone_number          0\n",
              "gender                0\n",
              "married               0\n",
              "dependents            0\n",
              "education             0\n",
              "self_employed         0\n",
              "applicant_income      0\n",
              "coapplicant_income    0\n",
              "loan_amount           0\n",
              "loan_term_month       0\n",
              "loan_term_year        0\n",
              "credit_history        0\n",
              "has_credit_card       0\n",
              "property_type         0\n",
              "loan_status           0\n",
              "dtype: int64"
            ]
          },
          "metadata": {},
          "execution_count": 14
        }
      ]
    },
    {
      "cell_type": "markdown",
      "id": "d75d760e",
      "metadata": {
        "id": "d75d760e"
      },
      "source": [
        "## Handling duplicated data"
      ]
    },
    {
      "cell_type": "code",
      "execution_count": 15,
      "id": "f040795a",
      "metadata": {
        "id": "f040795a",
        "colab": {
          "base_uri": "https://localhost:8080/"
        },
        "outputId": "049787ae-b5d4-44dc-bd94-78e7be071656"
      },
      "outputs": [
        {
          "output_type": "execute_result",
          "data": {
            "text/plain": [
              "0"
            ]
          },
          "metadata": {},
          "execution_count": 15
        }
      ],
      "source": [
        "# cek jumlah duplicated rows\n",
        "# dari semua kolom\n",
        "df.duplicated().sum()"
      ]
    },
    {
      "cell_type": "code",
      "source": [
        "# drop duplicated rows\n",
        "print(df.duplicated().sum())\n",
        "df.drop_duplicates(inplace=True)\n",
        "print(df.duplicated().sum())"
      ],
      "metadata": {
        "colab": {
          "base_uri": "https://localhost:8080/"
        },
        "id": "D00qqRW6L_fT",
        "outputId": "49dca9c4-d700-44b0-9f32-4b8936164b62"
      },
      "id": "D00qqRW6L_fT",
      "execution_count": 16,
      "outputs": [
        {
          "output_type": "stream",
          "name": "stdout",
          "text": [
            "0\n",
            "0\n"
          ]
        }
      ]
    },
    {
      "cell_type": "markdown",
      "id": "a73632f3",
      "metadata": {
        "id": "a73632f3"
      },
      "source": [
        "## Handling Outlier"
      ]
    },
    {
      "cell_type": "code",
      "execution_count": 17,
      "id": "dfbec136",
      "metadata": {
        "id": "dfbec136",
        "colab": {
          "base_uri": "https://localhost:8080/"
        },
        "outputId": "fa480e80-43b8-41e9-abe4-49eed54421ed"
      },
      "outputs": [
        {
          "output_type": "stream",
          "name": "stdout",
          "text": [
            "Jumlah baris sebelum memfilter outlier: 52\n",
            "Jumlah baris setelah memfilter outlier: 37\n"
          ]
        }
      ],
      "source": [
        "print(f'Jumlah baris sebelum memfilter outlier: {len(df)}')\n",
        "\n",
        "for col in ['applicant_income', 'loan_amount', 'credit_history', 'loan_term_year','coapplicant_income']:\n",
        "  Q1 = df[col].quantile(0.25)\n",
        "  Q3 = df[col].quantile(0.75)\n",
        "  IQR = Q3-Q1\n",
        "  low_limit = Q1 - 1.5*IQR\n",
        "  high_limit = Q3 + 1.5*IQR\n",
        "  df = df[(df[col] >= low_limit) & (df[col] <= high_limit)]\n",
        "\n",
        "print(f'Jumlah baris setelah memfilter outlier: {len(df)}')"
      ]
    },
    {
      "cell_type": "code",
      "source": [
        "df.info()"
      ],
      "metadata": {
        "colab": {
          "base_uri": "https://localhost:8080/"
        },
        "id": "IutMZ6kbDNTB",
        "outputId": "ed613771-d02f-4343-a3e7-86ac2fa64b6c"
      },
      "id": "IutMZ6kbDNTB",
      "execution_count": 18,
      "outputs": [
        {
          "output_type": "stream",
          "name": "stdout",
          "text": [
            "<class 'pandas.core.frame.DataFrame'>\n",
            "Int64Index: 37 entries, 26 to 613\n",
            "Data columns (total 17 columns):\n",
            " #   Column              Non-Null Count  Dtype  \n",
            "---  ------              --------------  -----  \n",
            " 0   loan_id             37 non-null     object \n",
            " 1   birth_date          37 non-null     object \n",
            " 2   phone_number        37 non-null     float64\n",
            " 3   gender              37 non-null     object \n",
            " 4   married             37 non-null     object \n",
            " 5   dependents          37 non-null     object \n",
            " 6   education           37 non-null     object \n",
            " 7   self_employed       37 non-null     object \n",
            " 8   applicant_income    37 non-null     float64\n",
            " 9   coapplicant_income  37 non-null     float64\n",
            " 10  loan_amount         37 non-null     int64  \n",
            " 11  loan_term_month     37 non-null     int64  \n",
            " 12  loan_term_year      37 non-null     int64  \n",
            " 13  credit_history      37 non-null     float64\n",
            " 14  has_credit_card     37 non-null     object \n",
            " 15  property_type       37 non-null     object \n",
            " 16  loan_status         37 non-null     object \n",
            "dtypes: float64(4), int64(3), object(10)\n",
            "memory usage: 5.2+ KB\n"
          ]
        }
      ]
    },
    {
      "cell_type": "code",
      "source": [
        "df.head()"
      ],
      "metadata": {
        "colab": {
          "base_uri": "https://localhost:8080/",
          "height": 305
        },
        "id": "gTgVPM9RDSXC",
        "outputId": "2dad9885-89b8-47b4-9cbf-2e7eb91dd0f1"
      },
      "id": "gTgVPM9RDSXC",
      "execution_count": 19,
      "outputs": [
        {
          "output_type": "execute_result",
          "data": {
            "text/plain": [
              "     loan_id  birth_date  phone_number gender married dependents  \\\n",
              "26  LP001068  1986-09-10  6.281377e+11   Male     Yes          0   \n",
              "27  LP001073  1989-02-05  6.281346e+11   Male     Yes          2   \n",
              "28  LP001086  1978-11-21  6.285222e+10   Male      No          0   \n",
              "31  LP001095  1983-09-21  6.281348e+11   Male      No          0   \n",
              "43  LP001131  1986-11-09  6.287723e+10   Male     Yes          0   \n",
              "\n",
              "       education self_employed  applicant_income  coapplicant_income  \\\n",
              "26      Graduate            No            2799.0              2253.0   \n",
              "27  Not Graduate            No            4226.0              1040.0   \n",
              "28  Not Graduate            No            1442.0                 0.0   \n",
              "31      Graduate            No            3167.0                 0.0   \n",
              "43      Graduate            No            3941.0              2336.0   \n",
              "\n",
              "    loan_amount  loan_term_month  loan_term_year  credit_history  \\\n",
              "26       122000              360              30             1.0   \n",
              "27       110000              360              30             1.0   \n",
              "28        35000              360              30             1.0   \n",
              "31        74000              360              30             1.0   \n",
              "43       134000              360              30             1.0   \n",
              "\n",
              "   has_credit_card property_type loan_status  \n",
              "26              no     apartment     APPROVE  \n",
              "27             yes         house     APPROVE  \n",
              "28              no         house      REJECT  \n",
              "31             yes         house      REJECT  \n",
              "43              no     apartment     APPROVE  "
            ],
            "text/html": [
              "\n",
              "  <div id=\"df-894b0730-cd4d-4e4b-b7ce-a0d14fdd3447\">\n",
              "    <div class=\"colab-df-container\">\n",
              "      <div>\n",
              "<style scoped>\n",
              "    .dataframe tbody tr th:only-of-type {\n",
              "        vertical-align: middle;\n",
              "    }\n",
              "\n",
              "    .dataframe tbody tr th {\n",
              "        vertical-align: top;\n",
              "    }\n",
              "\n",
              "    .dataframe thead th {\n",
              "        text-align: right;\n",
              "    }\n",
              "</style>\n",
              "<table border=\"1\" class=\"dataframe\">\n",
              "  <thead>\n",
              "    <tr style=\"text-align: right;\">\n",
              "      <th></th>\n",
              "      <th>loan_id</th>\n",
              "      <th>birth_date</th>\n",
              "      <th>phone_number</th>\n",
              "      <th>gender</th>\n",
              "      <th>married</th>\n",
              "      <th>dependents</th>\n",
              "      <th>education</th>\n",
              "      <th>self_employed</th>\n",
              "      <th>applicant_income</th>\n",
              "      <th>coapplicant_income</th>\n",
              "      <th>loan_amount</th>\n",
              "      <th>loan_term_month</th>\n",
              "      <th>loan_term_year</th>\n",
              "      <th>credit_history</th>\n",
              "      <th>has_credit_card</th>\n",
              "      <th>property_type</th>\n",
              "      <th>loan_status</th>\n",
              "    </tr>\n",
              "  </thead>\n",
              "  <tbody>\n",
              "    <tr>\n",
              "      <th>26</th>\n",
              "      <td>LP001068</td>\n",
              "      <td>1986-09-10</td>\n",
              "      <td>6.281377e+11</td>\n",
              "      <td>Male</td>\n",
              "      <td>Yes</td>\n",
              "      <td>0</td>\n",
              "      <td>Graduate</td>\n",
              "      <td>No</td>\n",
              "      <td>2799.0</td>\n",
              "      <td>2253.0</td>\n",
              "      <td>122000</td>\n",
              "      <td>360</td>\n",
              "      <td>30</td>\n",
              "      <td>1.0</td>\n",
              "      <td>no</td>\n",
              "      <td>apartment</td>\n",
              "      <td>APPROVE</td>\n",
              "    </tr>\n",
              "    <tr>\n",
              "      <th>27</th>\n",
              "      <td>LP001073</td>\n",
              "      <td>1989-02-05</td>\n",
              "      <td>6.281346e+11</td>\n",
              "      <td>Male</td>\n",
              "      <td>Yes</td>\n",
              "      <td>2</td>\n",
              "      <td>Not Graduate</td>\n",
              "      <td>No</td>\n",
              "      <td>4226.0</td>\n",
              "      <td>1040.0</td>\n",
              "      <td>110000</td>\n",
              "      <td>360</td>\n",
              "      <td>30</td>\n",
              "      <td>1.0</td>\n",
              "      <td>yes</td>\n",
              "      <td>house</td>\n",
              "      <td>APPROVE</td>\n",
              "    </tr>\n",
              "    <tr>\n",
              "      <th>28</th>\n",
              "      <td>LP001086</td>\n",
              "      <td>1978-11-21</td>\n",
              "      <td>6.285222e+10</td>\n",
              "      <td>Male</td>\n",
              "      <td>No</td>\n",
              "      <td>0</td>\n",
              "      <td>Not Graduate</td>\n",
              "      <td>No</td>\n",
              "      <td>1442.0</td>\n",
              "      <td>0.0</td>\n",
              "      <td>35000</td>\n",
              "      <td>360</td>\n",
              "      <td>30</td>\n",
              "      <td>1.0</td>\n",
              "      <td>no</td>\n",
              "      <td>house</td>\n",
              "      <td>REJECT</td>\n",
              "    </tr>\n",
              "    <tr>\n",
              "      <th>31</th>\n",
              "      <td>LP001095</td>\n",
              "      <td>1983-09-21</td>\n",
              "      <td>6.281348e+11</td>\n",
              "      <td>Male</td>\n",
              "      <td>No</td>\n",
              "      <td>0</td>\n",
              "      <td>Graduate</td>\n",
              "      <td>No</td>\n",
              "      <td>3167.0</td>\n",
              "      <td>0.0</td>\n",
              "      <td>74000</td>\n",
              "      <td>360</td>\n",
              "      <td>30</td>\n",
              "      <td>1.0</td>\n",
              "      <td>yes</td>\n",
              "      <td>house</td>\n",
              "      <td>REJECT</td>\n",
              "    </tr>\n",
              "    <tr>\n",
              "      <th>43</th>\n",
              "      <td>LP001131</td>\n",
              "      <td>1986-11-09</td>\n",
              "      <td>6.287723e+10</td>\n",
              "      <td>Male</td>\n",
              "      <td>Yes</td>\n",
              "      <td>0</td>\n",
              "      <td>Graduate</td>\n",
              "      <td>No</td>\n",
              "      <td>3941.0</td>\n",
              "      <td>2336.0</td>\n",
              "      <td>134000</td>\n",
              "      <td>360</td>\n",
              "      <td>30</td>\n",
              "      <td>1.0</td>\n",
              "      <td>no</td>\n",
              "      <td>apartment</td>\n",
              "      <td>APPROVE</td>\n",
              "    </tr>\n",
              "  </tbody>\n",
              "</table>\n",
              "</div>\n",
              "      <button class=\"colab-df-convert\" onclick=\"convertToInteractive('df-894b0730-cd4d-4e4b-b7ce-a0d14fdd3447')\"\n",
              "              title=\"Convert this dataframe to an interactive table.\"\n",
              "              style=\"display:none;\">\n",
              "        \n",
              "  <svg xmlns=\"http://www.w3.org/2000/svg\" height=\"24px\"viewBox=\"0 0 24 24\"\n",
              "       width=\"24px\">\n",
              "    <path d=\"M0 0h24v24H0V0z\" fill=\"none\"/>\n",
              "    <path d=\"M18.56 5.44l.94 2.06.94-2.06 2.06-.94-2.06-.94-.94-2.06-.94 2.06-2.06.94zm-11 1L8.5 8.5l.94-2.06 2.06-.94-2.06-.94L8.5 2.5l-.94 2.06-2.06.94zm10 10l.94 2.06.94-2.06 2.06-.94-2.06-.94-.94-2.06-.94 2.06-2.06.94z\"/><path d=\"M17.41 7.96l-1.37-1.37c-.4-.4-.92-.59-1.43-.59-.52 0-1.04.2-1.43.59L10.3 9.45l-7.72 7.72c-.78.78-.78 2.05 0 2.83L4 21.41c.39.39.9.59 1.41.59.51 0 1.02-.2 1.41-.59l7.78-7.78 2.81-2.81c.8-.78.8-2.07 0-2.86zM5.41 20L4 18.59l7.72-7.72 1.47 1.35L5.41 20z\"/>\n",
              "  </svg>\n",
              "      </button>\n",
              "      \n",
              "  <style>\n",
              "    .colab-df-container {\n",
              "      display:flex;\n",
              "      flex-wrap:wrap;\n",
              "      gap: 12px;\n",
              "    }\n",
              "\n",
              "    .colab-df-convert {\n",
              "      background-color: #E8F0FE;\n",
              "      border: none;\n",
              "      border-radius: 50%;\n",
              "      cursor: pointer;\n",
              "      display: none;\n",
              "      fill: #1967D2;\n",
              "      height: 32px;\n",
              "      padding: 0 0 0 0;\n",
              "      width: 32px;\n",
              "    }\n",
              "\n",
              "    .colab-df-convert:hover {\n",
              "      background-color: #E2EBFA;\n",
              "      box-shadow: 0px 1px 2px rgba(60, 64, 67, 0.3), 0px 1px 3px 1px rgba(60, 64, 67, 0.15);\n",
              "      fill: #174EA6;\n",
              "    }\n",
              "\n",
              "    [theme=dark] .colab-df-convert {\n",
              "      background-color: #3B4455;\n",
              "      fill: #D2E3FC;\n",
              "    }\n",
              "\n",
              "    [theme=dark] .colab-df-convert:hover {\n",
              "      background-color: #434B5C;\n",
              "      box-shadow: 0px 1px 3px 1px rgba(0, 0, 0, 0.15);\n",
              "      filter: drop-shadow(0px 1px 2px rgba(0, 0, 0, 0.3));\n",
              "      fill: #FFFFFF;\n",
              "    }\n",
              "  </style>\n",
              "\n",
              "      <script>\n",
              "        const buttonEl =\n",
              "          document.querySelector('#df-894b0730-cd4d-4e4b-b7ce-a0d14fdd3447 button.colab-df-convert');\n",
              "        buttonEl.style.display =\n",
              "          google.colab.kernel.accessAllowed ? 'block' : 'none';\n",
              "\n",
              "        async function convertToInteractive(key) {\n",
              "          const element = document.querySelector('#df-894b0730-cd4d-4e4b-b7ce-a0d14fdd3447');\n",
              "          const dataTable =\n",
              "            await google.colab.kernel.invokeFunction('convertToInteractive',\n",
              "                                                     [key], {});\n",
              "          if (!dataTable) return;\n",
              "\n",
              "          const docLinkHtml = 'Like what you see? Visit the ' +\n",
              "            '<a target=\"_blank\" href=https://colab.research.google.com/notebooks/data_table.ipynb>data table notebook</a>'\n",
              "            + ' to learn more about interactive tables.';\n",
              "          element.innerHTML = '';\n",
              "          dataTable['output_type'] = 'display_data';\n",
              "          await google.colab.output.renderOutput(dataTable, element);\n",
              "          const docLink = document.createElement('div');\n",
              "          docLink.innerHTML = docLinkHtml;\n",
              "          element.appendChild(docLink);\n",
              "        }\n",
              "      </script>\n",
              "    </div>\n",
              "  </div>\n",
              "  "
            ]
          },
          "metadata": {},
          "execution_count": 19
        }
      ]
    },
    {
      "cell_type": "markdown",
      "id": "659efbd3",
      "metadata": {
        "id": "659efbd3"
      },
      "source": [
        "## Feature Encoding"
      ]
    },
    {
      "cell_type": "code",
      "execution_count": 20,
      "id": "20e217a2",
      "metadata": {
        "id": "20e217a2",
        "colab": {
          "base_uri": "https://localhost:8080/"
        },
        "outputId": "e3dd011c-36ee-490b-eaf4-6470c68edf02"
      },
      "outputs": [
        {
          "output_type": "stream",
          "name": "stdout",
          "text": [
            "value counts of column gender\n",
            "Male      30\n",
            "Female     7\n",
            "Name: gender, dtype: int64\n",
            "------------------------------ \n",
            "\n",
            "value counts of column married\n",
            "Yes    23\n",
            "No     14\n",
            "Name: married, dtype: int64\n",
            "------------------------------ \n",
            "\n",
            "value counts of column education\n",
            "Graduate        26\n",
            "Not Graduate    11\n",
            "Name: education, dtype: int64\n",
            "------------------------------ \n",
            "\n",
            "value counts of column self_employed\n",
            "No     30\n",
            "Yes     7\n",
            "Name: self_employed, dtype: int64\n",
            "------------------------------ \n",
            "\n",
            "value counts of column property_type\n",
            "apartment    18\n",
            "house        11\n",
            "studio        8\n",
            "Name: property_type, dtype: int64\n",
            "------------------------------ \n",
            "\n",
            "value counts of column has_credit_card\n",
            "no     22\n",
            "yes    15\n",
            "Name: has_credit_card, dtype: int64\n",
            "------------------------------ \n",
            "\n",
            "value counts of column loan_status\n",
            "APPROVE    31\n",
            "REJECT      6\n",
            "Name: loan_status, dtype: int64\n",
            "------------------------------ \n",
            "\n"
          ]
        }
      ],
      "source": [
        "# pengecekan nilai/entri dari kolom-kolom kategorikal\n",
        "cats_updated = cats = ['gender', 'married', 'education', 'self_employed', 'property_type', 'has_credit_card','loan_status']\n",
        "\n",
        "for col in cats_updated:\n",
        "  print(f'value counts of column {col}')\n",
        "  print(df[col].value_counts())\n",
        "  print('---'*10, '\\n')"
      ]
    },
    {
      "cell_type": "code",
      "source": [
        "#label encoding\n",
        "mapping_married = {\n",
        "    'Yes' : 0,\n",
        "    'No' : 1\n",
        "}\n",
        "mapping_education = {\n",
        "    'Graduate' : 0,\n",
        "    'Not Graduate' : 1\n",
        "}\n",
        "mapping_self_employed = {\n",
        "    'Yes' : 0,\n",
        "    'No' : 1\n",
        "}\n",
        "\n",
        "mapping_property_type = {\n",
        "    'house' : 0,\n",
        "    'studio' : 1,\n",
        "    'apartment' : 2  \n",
        "}\n",
        "\n",
        "df['married'] = df ['married'].map(mapping_married)\n",
        "df['education'] = df ['education'].map(mapping_education)\n",
        "df['self_employed'] = df ['self_employed'].map(mapping_self_employed)\n",
        "df['property_type'] = df ['property_type'].map(mapping_property_type)\n"
      ],
      "metadata": {
        "id": "hmORgR9Gt79V"
      },
      "id": "hmORgR9Gt79V",
      "execution_count": null,
      "outputs": []
    },
    {
      "cell_type": "code",
      "source": [
        "from sklearn.preprocessing import LabelEncoder\n",
        "\n",
        "labelencoder = LabelEncoder()\n",
        "\n",
        "df['married_N'] = labelencoder.fit_transform(df['married'])\n",
        "df['education_N'] = labelencoder.fit_transform(df['education'])\n",
        "df['self_employed_N'] = labelencoder.fit_transform(df['self_employed'])\n",
        "df['property_type_N'] = labelencoder.fit_transform(df['property_type'])\n",
        "df['gender_N'] = labelencoder.fit_transform(df['gender'])\n",
        "df['loan_status_N'] = labelencoder.fit_transform(df['loan_status'])\n",
        "\n",
        "df = df.drop('married', 1)\n",
        "df = df.drop('education', 1)\n",
        "df = df.drop('self_employed', 1)\n",
        "df = df.drop('property_type', 1)\n",
        "df = df.drop('gender', 1)\n",
        "df = df.drop('loan_status', 1)"
      ],
      "metadata": {
        "colab": {
          "base_uri": "https://localhost:8080/"
        },
        "id": "OxJNiMPN26Sa",
        "outputId": "70abf731-f8d0-4906-e5c9-0853a2d56d58"
      },
      "id": "OxJNiMPN26Sa",
      "execution_count": null,
      "outputs": [
        {
          "output_type": "stream",
          "name": "stderr",
          "text": [
            "/usr/local/lib/python3.7/dist-packages/ipykernel_launcher.py:12: FutureWarning: In a future version of pandas all arguments of DataFrame.drop except for the argument 'labels' will be keyword-only\n",
            "  if sys.path[0] == '':\n",
            "/usr/local/lib/python3.7/dist-packages/ipykernel_launcher.py:13: FutureWarning: In a future version of pandas all arguments of DataFrame.drop except for the argument 'labels' will be keyword-only\n",
            "  del sys.path[0]\n",
            "/usr/local/lib/python3.7/dist-packages/ipykernel_launcher.py:14: FutureWarning: In a future version of pandas all arguments of DataFrame.drop except for the argument 'labels' will be keyword-only\n",
            "  \n",
            "/usr/local/lib/python3.7/dist-packages/ipykernel_launcher.py:15: FutureWarning: In a future version of pandas all arguments of DataFrame.drop except for the argument 'labels' will be keyword-only\n",
            "  from ipykernel import kernelapp as app\n",
            "/usr/local/lib/python3.7/dist-packages/ipykernel_launcher.py:16: FutureWarning: In a future version of pandas all arguments of DataFrame.drop except for the argument 'labels' will be keyword-only\n",
            "  app.launch_new_instance()\n",
            "/usr/local/lib/python3.7/dist-packages/ipykernel_launcher.py:17: FutureWarning: In a future version of pandas all arguments of DataFrame.drop except for the argument 'labels' will be keyword-only\n"
          ]
        }
      ]
    },
    {
      "cell_type": "code",
      "source": [
        "df.head ()"
      ],
      "metadata": {
        "colab": {
          "base_uri": "https://localhost:8080/",
          "height": 270
        },
        "id": "Hky9qdh0cYaF",
        "outputId": "99871ad1-ea93-4e20-853d-8d04caba977b"
      },
      "id": "Hky9qdh0cYaF",
      "execution_count": null,
      "outputs": [
        {
          "output_type": "execute_result",
          "data": {
            "text/html": [
              "\n",
              "  <div id=\"df-87d12bc2-ce53-4e00-9c26-f75907fe524f\">\n",
              "    <div class=\"colab-df-container\">\n",
              "      <div>\n",
              "<style scoped>\n",
              "    .dataframe tbody tr th:only-of-type {\n",
              "        vertical-align: middle;\n",
              "    }\n",
              "\n",
              "    .dataframe tbody tr th {\n",
              "        vertical-align: top;\n",
              "    }\n",
              "\n",
              "    .dataframe thead th {\n",
              "        text-align: right;\n",
              "    }\n",
              "</style>\n",
              "<table border=\"1\" class=\"dataframe\">\n",
              "  <thead>\n",
              "    <tr style=\"text-align: right;\">\n",
              "      <th></th>\n",
              "      <th>loan_id</th>\n",
              "      <th>birth_date</th>\n",
              "      <th>phone_number</th>\n",
              "      <th>dependents</th>\n",
              "      <th>applicant_income</th>\n",
              "      <th>coapplicant_income</th>\n",
              "      <th>loan_amount</th>\n",
              "      <th>loan_term_month</th>\n",
              "      <th>loan_term_year</th>\n",
              "      <th>credit_history</th>\n",
              "      <th>has_credit_card</th>\n",
              "      <th>married_N</th>\n",
              "      <th>education_N</th>\n",
              "      <th>self_employed_N</th>\n",
              "      <th>property_type_N</th>\n",
              "      <th>gender_N</th>\n",
              "      <th>loan_status_N</th>\n",
              "    </tr>\n",
              "  </thead>\n",
              "  <tbody>\n",
              "    <tr>\n",
              "      <th>26</th>\n",
              "      <td>LP001068</td>\n",
              "      <td>1986-09-10</td>\n",
              "      <td>6.281377e+11</td>\n",
              "      <td>0</td>\n",
              "      <td>2799.0</td>\n",
              "      <td>2253.0</td>\n",
              "      <td>122000</td>\n",
              "      <td>360</td>\n",
              "      <td>30</td>\n",
              "      <td>1.0</td>\n",
              "      <td>no</td>\n",
              "      <td>0</td>\n",
              "      <td>0</td>\n",
              "      <td>1</td>\n",
              "      <td>2</td>\n",
              "      <td>1</td>\n",
              "      <td>0</td>\n",
              "    </tr>\n",
              "    <tr>\n",
              "      <th>27</th>\n",
              "      <td>LP001073</td>\n",
              "      <td>1989-02-05</td>\n",
              "      <td>6.281346e+11</td>\n",
              "      <td>2</td>\n",
              "      <td>4226.0</td>\n",
              "      <td>1040.0</td>\n",
              "      <td>110000</td>\n",
              "      <td>360</td>\n",
              "      <td>30</td>\n",
              "      <td>1.0</td>\n",
              "      <td>yes</td>\n",
              "      <td>0</td>\n",
              "      <td>1</td>\n",
              "      <td>1</td>\n",
              "      <td>0</td>\n",
              "      <td>1</td>\n",
              "      <td>0</td>\n",
              "    </tr>\n",
              "    <tr>\n",
              "      <th>28</th>\n",
              "      <td>LP001086</td>\n",
              "      <td>1978-11-21</td>\n",
              "      <td>6.285222e+10</td>\n",
              "      <td>0</td>\n",
              "      <td>1442.0</td>\n",
              "      <td>0.0</td>\n",
              "      <td>35000</td>\n",
              "      <td>360</td>\n",
              "      <td>30</td>\n",
              "      <td>1.0</td>\n",
              "      <td>no</td>\n",
              "      <td>1</td>\n",
              "      <td>1</td>\n",
              "      <td>1</td>\n",
              "      <td>0</td>\n",
              "      <td>1</td>\n",
              "      <td>1</td>\n",
              "    </tr>\n",
              "    <tr>\n",
              "      <th>31</th>\n",
              "      <td>LP001095</td>\n",
              "      <td>1983-09-21</td>\n",
              "      <td>6.281348e+11</td>\n",
              "      <td>0</td>\n",
              "      <td>3167.0</td>\n",
              "      <td>0.0</td>\n",
              "      <td>74000</td>\n",
              "      <td>360</td>\n",
              "      <td>30</td>\n",
              "      <td>1.0</td>\n",
              "      <td>yes</td>\n",
              "      <td>1</td>\n",
              "      <td>0</td>\n",
              "      <td>1</td>\n",
              "      <td>0</td>\n",
              "      <td>1</td>\n",
              "      <td>1</td>\n",
              "    </tr>\n",
              "    <tr>\n",
              "      <th>43</th>\n",
              "      <td>LP001131</td>\n",
              "      <td>1986-11-09</td>\n",
              "      <td>6.287723e+10</td>\n",
              "      <td>0</td>\n",
              "      <td>3941.0</td>\n",
              "      <td>2336.0</td>\n",
              "      <td>134000</td>\n",
              "      <td>360</td>\n",
              "      <td>30</td>\n",
              "      <td>1.0</td>\n",
              "      <td>no</td>\n",
              "      <td>0</td>\n",
              "      <td>0</td>\n",
              "      <td>1</td>\n",
              "      <td>2</td>\n",
              "      <td>1</td>\n",
              "      <td>0</td>\n",
              "    </tr>\n",
              "  </tbody>\n",
              "</table>\n",
              "</div>\n",
              "      <button class=\"colab-df-convert\" onclick=\"convertToInteractive('df-87d12bc2-ce53-4e00-9c26-f75907fe524f')\"\n",
              "              title=\"Convert this dataframe to an interactive table.\"\n",
              "              style=\"display:none;\">\n",
              "        \n",
              "  <svg xmlns=\"http://www.w3.org/2000/svg\" height=\"24px\"viewBox=\"0 0 24 24\"\n",
              "       width=\"24px\">\n",
              "    <path d=\"M0 0h24v24H0V0z\" fill=\"none\"/>\n",
              "    <path d=\"M18.56 5.44l.94 2.06.94-2.06 2.06-.94-2.06-.94-.94-2.06-.94 2.06-2.06.94zm-11 1L8.5 8.5l.94-2.06 2.06-.94-2.06-.94L8.5 2.5l-.94 2.06-2.06.94zm10 10l.94 2.06.94-2.06 2.06-.94-2.06-.94-.94-2.06-.94 2.06-2.06.94z\"/><path d=\"M17.41 7.96l-1.37-1.37c-.4-.4-.92-.59-1.43-.59-.52 0-1.04.2-1.43.59L10.3 9.45l-7.72 7.72c-.78.78-.78 2.05 0 2.83L4 21.41c.39.39.9.59 1.41.59.51 0 1.02-.2 1.41-.59l7.78-7.78 2.81-2.81c.8-.78.8-2.07 0-2.86zM5.41 20L4 18.59l7.72-7.72 1.47 1.35L5.41 20z\"/>\n",
              "  </svg>\n",
              "      </button>\n",
              "      \n",
              "  <style>\n",
              "    .colab-df-container {\n",
              "      display:flex;\n",
              "      flex-wrap:wrap;\n",
              "      gap: 12px;\n",
              "    }\n",
              "\n",
              "    .colab-df-convert {\n",
              "      background-color: #E8F0FE;\n",
              "      border: none;\n",
              "      border-radius: 50%;\n",
              "      cursor: pointer;\n",
              "      display: none;\n",
              "      fill: #1967D2;\n",
              "      height: 32px;\n",
              "      padding: 0 0 0 0;\n",
              "      width: 32px;\n",
              "    }\n",
              "\n",
              "    .colab-df-convert:hover {\n",
              "      background-color: #E2EBFA;\n",
              "      box-shadow: 0px 1px 2px rgba(60, 64, 67, 0.3), 0px 1px 3px 1px rgba(60, 64, 67, 0.15);\n",
              "      fill: #174EA6;\n",
              "    }\n",
              "\n",
              "    [theme=dark] .colab-df-convert {\n",
              "      background-color: #3B4455;\n",
              "      fill: #D2E3FC;\n",
              "    }\n",
              "\n",
              "    [theme=dark] .colab-df-convert:hover {\n",
              "      background-color: #434B5C;\n",
              "      box-shadow: 0px 1px 3px 1px rgba(0, 0, 0, 0.15);\n",
              "      filter: drop-shadow(0px 1px 2px rgba(0, 0, 0, 0.3));\n",
              "      fill: #FFFFFF;\n",
              "    }\n",
              "  </style>\n",
              "\n",
              "      <script>\n",
              "        const buttonEl =\n",
              "          document.querySelector('#df-87d12bc2-ce53-4e00-9c26-f75907fe524f button.colab-df-convert');\n",
              "        buttonEl.style.display =\n",
              "          google.colab.kernel.accessAllowed ? 'block' : 'none';\n",
              "\n",
              "        async function convertToInteractive(key) {\n",
              "          const element = document.querySelector('#df-87d12bc2-ce53-4e00-9c26-f75907fe524f');\n",
              "          const dataTable =\n",
              "            await google.colab.kernel.invokeFunction('convertToInteractive',\n",
              "                                                     [key], {});\n",
              "          if (!dataTable) return;\n",
              "\n",
              "          const docLinkHtml = 'Like what you see? Visit the ' +\n",
              "            '<a target=\"_blank\" href=https://colab.research.google.com/notebooks/data_table.ipynb>data table notebook</a>'\n",
              "            + ' to learn more about interactive tables.';\n",
              "          element.innerHTML = '';\n",
              "          dataTable['output_type'] = 'display_data';\n",
              "          await google.colab.output.renderOutput(dataTable, element);\n",
              "          const docLink = document.createElement('div');\n",
              "          docLink.innerHTML = docLinkHtml;\n",
              "          element.appendChild(docLink);\n",
              "        }\n",
              "      </script>\n",
              "    </div>\n",
              "  </div>\n",
              "  "
            ],
            "text/plain": [
              "     loan_id  birth_date  ...  gender_N loan_status_N\n",
              "26  LP001068  1986-09-10  ...         1             0\n",
              "27  LP001073  1989-02-05  ...         1             0\n",
              "28  LP001086  1978-11-21  ...         1             1\n",
              "31  LP001095  1983-09-21  ...         1             1\n",
              "43  LP001131  1986-11-09  ...         1             0\n",
              "\n",
              "[5 rows x 17 columns]"
            ]
          },
          "metadata": {},
          "execution_count": 49
        }
      ]
    },
    {
      "cell_type": "markdown",
      "source": [],
      "metadata": {
        "id": "0cTOQIGG8Xja"
      },
      "id": "0cTOQIGG8Xja"
    },
    {
      "cell_type": "markdown",
      "id": "a7228757",
      "metadata": {
        "id": "a7228757"
      },
      "source": [
        "# Business Insight"
      ]
    },
    {
      "cell_type": "markdown",
      "id": "b890d514",
      "metadata": {
        "id": "b890d514"
      },
      "source": [
        "## Analisis minat pelanggan berdasarkan pada tipe properti"
      ]
    },
    {
      "cell_type": "code",
      "source": [
        "df.info"
      ],
      "metadata": {
        "colab": {
          "base_uri": "https://localhost:8080/"
        },
        "id": "BScxUFRr9VtN",
        "outputId": "fd475b9b-5ede-41e2-fb95-c96d7e9cd95e"
      },
      "id": "BScxUFRr9VtN",
      "execution_count": null,
      "outputs": [
        {
          "output_type": "execute_result",
          "data": {
            "text/plain": [
              "<bound method DataFrame.info of       loan_id  birth_date  ...  gender_N loan_status_N\n",
              "26   LP001068  1986-09-10  ...         1             0\n",
              "27   LP001073  1989-02-05  ...         1             0\n",
              "28   LP001086  1978-11-21  ...         1             1\n",
              "31   LP001095  1983-09-21  ...         1             1\n",
              "43   LP001131  1986-11-09  ...         1             0\n",
              "47   LP001144  1984-08-31  ...         1             0\n",
              "81   LP001266  1984-08-05  ...         1             0\n",
              "90   LP001310  1987-10-18  ...         1             0\n",
              "93   LP001319  1985-04-18  ...         1             0\n",
              "114  LP001392  1986-03-28  ...         0             0\n",
              "144  LP001507  1984-03-29  ...         1             0\n",
              "146  LP001514  1981-10-20  ...         0             0\n",
              "149  LP001519  1980-12-02  ...         0             1\n",
              "153  LP001531  1981-08-23  ...         1             1\n",
              "206  LP001692  1991-02-21  ...         0             0\n",
              "208  LP001698  1985-07-28  ...         1             0\n",
              "209  LP001699  1980-06-24  ...         1             0\n",
              "216  LP001720  1980-02-17  ...         1             0\n",
              "244  LP001807  1995-10-08  ...         1             0\n",
              "265  LP001872  1985-02-14  ...         1             0\n",
              "298  LP001953  1988-03-21  ...         1             0\n",
              "308  LP001990  1980-08-03  ...         1             1\n",
              "330  LP002082  1989-01-24  ...         1             0\n",
              "345  LP002119  1986-10-07  ...         1             0\n",
              "346  LP002126  1985-08-02  ...         1             0\n",
              "362  LP002160  1990-11-27  ...         1             0\n",
              "393  LP002250  1984-06-23  ...         1             0\n",
              "420  LP002337  1982-06-30  ...         0             0\n",
              "423  LP002345  1981-08-16  ...         1             0\n",
              "435  LP002377  1985-05-31  ...         0             0\n",
              "444  LP002407  1981-08-22  ...         0             0\n",
              "470  LP002494  1990-08-07  ...         1             0\n",
              "486  LP002536  1988-08-22  ...         1             0\n",
              "523  LP002683  1976-11-04  ...         1             1\n",
              "585  LP002892  1983-06-24  ...         1             0\n",
              "591  LP002916  1987-04-15  ...         1             0\n",
              "613  LP002961  1983-02-14  ...         1             0\n",
              "\n",
              "[37 rows x 17 columns]>"
            ]
          },
          "metadata": {},
          "execution_count": 50
        }
      ]
    },
    {
      "cell_type": "code",
      "source": [
        "df.groupby(['gender_N', 'property_type_N'])[\"property_type_N\"].count()"
      ],
      "metadata": {
        "colab": {
          "base_uri": "https://localhost:8080/"
        },
        "id": "4ZR6u5LcC8Qu",
        "outputId": "468b521a-ed69-4f21-8fca-b0e97dde0f16"
      },
      "id": "4ZR6u5LcC8Qu",
      "execution_count": null,
      "outputs": [
        {
          "output_type": "execute_result",
          "data": {
            "text/plain": [
              "gender_N  property_type_N\n",
              "0         0                   1\n",
              "          1                   2\n",
              "          2                   4\n",
              "1         0                  10\n",
              "          1                   6\n",
              "          2                  14\n",
              "Name: property_type_N, dtype: int64"
            ]
          },
          "metadata": {},
          "execution_count": 60
        }
      ]
    },
    {
      "cell_type": "code",
      "source": [
        "Appartement = [1,10]\n",
        "House = [2,6]\n",
        "Studio = [4,14]\n",
        "\n",
        "index     = [\"Female\", \"Male\"];\n",
        "\n",
        "\n",
        "df = pd.DataFrame({'Appartement': Appartement,\n",
        "                   'House': House, \n",
        "                   'Studio' : Studio}, index=index)\n",
        "ax = df.plot.barh(title = \"Property type by Gender\")"
      ],
      "metadata": {
        "colab": {
          "base_uri": "https://localhost:8080/",
          "height": 281
        },
        "id": "1fKRcCteVrbs",
        "outputId": "004406e3-93a1-4018-c386-05abb8e99669"
      },
      "id": "1fKRcCteVrbs",
      "execution_count": null,
      "outputs": [
        {
          "output_type": "display_data",
          "data": {
            "image/png": "[encoded data removed]",
            "text/plain": [
              "<Figure size 432x288 with 1 Axes>"
            ]
          },
          "metadata": {
            "needs_background": "light"
          }
        }
      ]
    },
    {
      "cell_type": "markdown",
      "id": "c43363d1",
      "metadata": {
        "id": "c43363d1"
      },
      "source": [
        "## Analisis pengaruh status perkawinan terhadap jangka waktu meminjam "
      ]
    },
    {
      "cell_type": "code",
      "source": [],
      "metadata": {
        "id": "foxlauyBpcLf"
      },
      "id": "foxlauyBpcLf",
      "execution_count": null,
      "outputs": []
    },
    {
      "cell_type": "code",
      "execution_count": null,
      "id": "6f206911",
      "metadata": {
        "id": "6f206911",
        "colab": {
          "base_uri": "https://localhost:8080/"
        },
        "outputId": "07cb2b85-e1ec-4e14-fd90-136e937b0bf1"
      },
      "outputs": [
        {
          "output_type": "execute_result",
          "data": {
            "text/plain": [
              "married_N  loan_term_year\n",
              "0          30                23\n",
              "1          30                14\n",
              "Name: loan_term_year, dtype: int64"
            ]
          },
          "metadata": {},
          "execution_count": 62
        }
      ],
      "source": [
        "df.groupby(['married_N', 'loan_term_year'])[\"loan_term_year\"].count()"
      ]
    },
    {
      "cell_type": "code",
      "source": [
        "import matplotlib.pyplot as plt\n",
        "\n",
        "y = np.array([23,14])\n",
        "mylabels = [\"Not Married\", \"Married\"]\n",
        "\n",
        "plt.pie(y, labels = mylabels, autopct='%1.2f%%')\n",
        "plt.title (\"Loan term year by Married Status\")\n",
        "plt.show() "
      ],
      "metadata": {
        "colab": {
          "base_uri": "https://localhost:8080/",
          "height": 263
        },
        "id": "7c4hSTjbZjp1",
        "outputId": "0ac206ad-bc07-4225-8a0c-207eef5cc04b"
      },
      "id": "7c4hSTjbZjp1",
      "execution_count": null,
      "outputs": [
        {
          "output_type": "display_data",
          "data": {
            "image/png": "[encoded data removed]",
            "text/plain": [
              "<Figure size 432x288 with 1 Axes>"
            ]
          },
          "metadata": {}
        }
      ]
    },
    {
      "cell_type": "code",
      "source": [
        "df.groupby(['married_N', 'loan_status_N'])[\"loan_status_N\"].count()"
      ],
      "metadata": {
        "colab": {
          "base_uri": "https://localhost:8080/"
        },
        "id": "iI4SahAcCQ6r",
        "outputId": "b9096996-5e21-457f-eda8-fdd592eea239"
      },
      "id": "iI4SahAcCQ6r",
      "execution_count": null,
      "outputs": [
        {
          "output_type": "execute_result",
          "data": {
            "text/plain": [
              "married_N  loan_status_N\n",
              "0          0                23\n",
              "1          0                 8\n",
              "           1                 6\n",
              "Name: loan_status_N, dtype: int64"
            ]
          },
          "metadata": {},
          "execution_count": 63
        }
      ]
    },
    {
      "cell_type": "code",
      "source": [
        "import matplotlib.pyplot as plt\n",
        "\n",
        "y = np.array([23, 8, 6])\n",
        "mylabels = [\"Not Married Approved\", \"Married Approved\", \"Married Rejected\"]\n",
        "\n",
        "plt.pie(y, labels = mylabels, autopct='%1.2f%%')\n",
        "plt.title (\"Loan status by Married Status\")\n",
        "plt.show() "
      ],
      "metadata": {
        "colab": {
          "base_uri": "https://localhost:8080/",
          "height": 263
        },
        "id": "exRn9S69-IFX",
        "outputId": "85b0f47c-dcb8-480e-ef61-314abb2f56f7"
      },
      "id": "exRn9S69-IFX",
      "execution_count": null,
      "outputs": [
        {
          "output_type": "display_data",
          "data": {
            "image/png": "[encoded data removed]",
            "text/plain": [
              "<Figure size 432x288 with 1 Axes>"
            ]
          },
          "metadata": {}
        }
      ]
    },
    {
      "cell_type": "code",
      "source": [
        "# # Example Python program to plot a stacked horizontal bar chart \n",
        "\n",
        "import pandas as pd\n",
        "\n",
        "import matplotlib.pyplot as plot\n",
        "\n",
        " \n",
        "\n",
        "# A python dictionary\n",
        "\n",
        "data = {\"Appartement\":[10,1],\n",
        "        \"House\":[6,2],\n",
        "        \"Studio\":[14,4] };\n",
        "\n",
        "index     = [\"Male\", \"Female\"];\n",
        "\n",
        " \n",
        "\n",
        "# Python Dictionary loaded into a DataFrame\n",
        "\n",
        "dataFrame = pd.DataFrame(data=data, index=index);\n",
        "\n",
        " \n",
        "\n",
        "# Draw a stacked horizontal bar chart\n",
        "\n",
        "dataFrame.plot.barh(stacked=True,rot=-15, title=\"Number of students appeared vs passed\");\n",
        "\n",
        "plot.show(block=True);"
      ],
      "metadata": {
        "colab": {
          "base_uri": "https://localhost:8080/",
          "height": 281
        },
        "id": "yNKyMPStQfJT",
        "outputId": "0169093c-9e40-4dce-a9ca-021faceffcfd"
      },
      "id": "yNKyMPStQfJT",
      "execution_count": null,
      "outputs": [
        {
          "output_type": "display_data",
          "data": {
            "image/png": "[encoded data removed]",
            "text/plain": [
              "<Figure size 432x288 with 1 Axes>"
            ]
          },
          "metadata": {
            "needs_background": "light"
          }
        }
      ]
    },
    {
      "cell_type": "code",
      "source": [
        "import matplotlib.pyplot as plt\n",
        "\n",
        "# Make data: I have 3 groups and 7 subgroups\n",
        "group_names=['Male', 'Female']\n",
        "group_size=[30,7]\n",
        "subgroup_names=['Appart', 'House', 'studio', 'Appart', 'House', 'studio']\n",
        "subgroup_size=[10,6,14,1,2,4]\n",
        "\n",
        "# Create colors\n",
        "a, b, c=[plt.cm.Blues, plt.cm.Reds, plt.cm.Greens]\n",
        "\n",
        "# First Ring (outside)\n",
        "fig, ax = plt.subplots()\n",
        "ax.axis('equal')\n",
        "mypie, _ = ax.pie(group_size, radius=1.3, labels=group_names, colors= \n",
        "[a(0.6), b(0.6), c(0.6)] )\n",
        "plt.setp( mypie, width=0.3, edgecolor='white')\n",
        "\n",
        "# Second Ring (Insi\n",
        "mypie2, _ = ax.pie(subgroup_size, radius=1.3-0.3, autopct='%1.2f%%')\n",
        "plt.setp( mypie2, width=0.4, edgecolor='white')\n",
        "plt.margins(0,0)\n",
        "\n",
        "subgroup_names_legs=['A.1:a1desc', 'A.2:a2desc', 'A.3:a3desc', \n",
        "'B.1:b1desc', 'B.2:b2desc', 'C.1:c1desc', 'C.2:c2desc', 'C.3:c3desc', \n",
        "'C.4:c4desc', 'C.5:c5desc']\n",
        "plt.legend(subgroup_names_legs,loc='best')"
      ],
      "metadata": {
        "colab": {
          "base_uri": "https://localhost:8080/",
          "height": 476
        },
        "id": "T3Qp97p8GFkN",
        "outputId": "b25c3576-4167-4d89-c12b-0d76e0edd64c"
      },
      "id": "T3Qp97p8GFkN",
      "execution_count": null,
      "outputs": [
        {
          "output_type": "error",
          "ename": "ValueError",
          "evalue": "ignored",
          "traceback": [
            "\u001b[0;31m---------------------------------------------------------------------------\u001b[0m",
            "\u001b[0;31mValueError\u001b[0m                                Traceback (most recent call last)",
            "\u001b[0;32m<ipython-input-25-81919dab3c29>\u001b[0m in \u001b[0;36m<module>\u001b[0;34m()\u001b[0m\n\u001b[1;32m     18\u001b[0m \u001b[0;34m\u001b[0m\u001b[0m\n\u001b[1;32m     19\u001b[0m \u001b[0;31m# Second Ring (Insi\u001b[0m\u001b[0;34m\u001b[0m\u001b[0;34m\u001b[0m\u001b[0;34m\u001b[0m\u001b[0m\n\u001b[0;32m---> 20\u001b[0;31m \u001b[0mmypie2\u001b[0m\u001b[0;34m,\u001b[0m \u001b[0m_\u001b[0m \u001b[0;34m=\u001b[0m \u001b[0max\u001b[0m\u001b[0;34m.\u001b[0m\u001b[0mpie\u001b[0m\u001b[0;34m(\u001b[0m\u001b[0msubgroup_size\u001b[0m\u001b[0;34m,\u001b[0m \u001b[0mradius\u001b[0m\u001b[0;34m=\u001b[0m\u001b[0;36m1.3\u001b[0m\u001b[0;34m-\u001b[0m\u001b[0;36m0.3\u001b[0m\u001b[0;34m,\u001b[0m \u001b[0mautopct\u001b[0m\u001b[0;34m=\u001b[0m\u001b[0;34m'%1.2f%%'\u001b[0m\u001b[0;34m)\u001b[0m\u001b[0;34m\u001b[0m\u001b[0;34m\u001b[0m\u001b[0m\n\u001b[0m\u001b[1;32m     21\u001b[0m \u001b[0mplt\u001b[0m\u001b[0;34m.\u001b[0m\u001b[0msetp\u001b[0m\u001b[0;34m(\u001b[0m \u001b[0mmypie2\u001b[0m\u001b[0;34m,\u001b[0m \u001b[0mwidth\u001b[0m\u001b[0;34m=\u001b[0m\u001b[0;36m0.4\u001b[0m\u001b[0;34m,\u001b[0m \u001b[0medgecolor\u001b[0m\u001b[0;34m=\u001b[0m\u001b[0;34m'white'\u001b[0m\u001b[0;34m)\u001b[0m\u001b[0;34m\u001b[0m\u001b[0;34m\u001b[0m\u001b[0m\n\u001b[1;32m     22\u001b[0m \u001b[0mplt\u001b[0m\u001b[0;34m.\u001b[0m\u001b[0mmargins\u001b[0m\u001b[0;34m(\u001b[0m\u001b[0;36m0\u001b[0m\u001b[0;34m,\u001b[0m\u001b[0;36m0\u001b[0m\u001b[0;34m)\u001b[0m\u001b[0;34m\u001b[0m\u001b[0;34m\u001b[0m\u001b[0m\n",
            "\u001b[0;31mValueError\u001b[0m: too many values to unpack (expected 2)"
          ]
        },
        {
          "output_type": "display_data",
          "data": {
            "image/png": "[encoded data removed]",
            "text/plain": [
              "<Figure size 432x288 with 1 Axes>"
            ]
          },
          "metadata": {}
        }
      ]
    },
    {
      "cell_type": "code",
      "source": [
        "print [\"hello word\"]"
      ],
      "metadata": {
        "colab": {
          "base_uri": "https://localhost:8080/",
          "height": 172
        },
        "id": "0DDWlOxVpf_o",
        "outputId": "d1ec28c4-3d7d-4acb-f0eb-c61dbdb6315e"
      },
      "id": "0DDWlOxVpf_o",
      "execution_count": null,
      "outputs": [
        {
          "output_type": "error",
          "ename": "TypeError",
          "evalue": "ignored",
          "traceback": [
            "\u001b[0;31m---------------------------------------------------------------------------\u001b[0m",
            "\u001b[0;31mTypeError\u001b[0m                                 Traceback (most recent call last)",
            "\u001b[0;32m<ipython-input-1-cb3dbd51ca9c>\u001b[0m in \u001b[0;36m<module>\u001b[0;34m()\u001b[0m\n\u001b[0;32m----> 1\u001b[0;31m \u001b[0mprint\u001b[0m \u001b[0;34m[\u001b[0m\u001b[0;34m\"hello word\"\u001b[0m\u001b[0;34m]\u001b[0m\u001b[0;34m\u001b[0m\u001b[0;34m\u001b[0m\u001b[0m\n\u001b[0m",
            "\u001b[0;31mTypeError\u001b[0m: 'builtin_function_or_method' object is not subscriptable"
          ]
        }
      ]
    }
  ],
  "metadata": {
    "kernelspec": {
      "display_name": "Python 3 (ipykernel)",
      "language": "python",
      "name": "python3"
    },
    "language_info": {
      "codemirror_mode": {
        "name": "ipython",
        "version": 3
      },
      "file_extension": ".py",
      "mimetype": "text/x-python",
      "name": "python",
      "nbconvert_exporter": "python",
      "pygments_lexer": "ipython3",
      "version": "3.9.6"
    },
    "colab": {
      "provenance": [],
      "collapsed_sections": []
    }
  },
  "nbformat": 4,
  "nbformat_minor": 5
}